{
 "cells": [
  {
   "cell_type": "code",
   "execution_count": 3,
   "metadata": {},
   "outputs": [
    {
     "name": "stdout",
     "output_type": "stream",
     "text": [
      "2020-08-14\n"
     ]
    }
   ],
   "source": [
    "from datetime import date\n",
    "todays_date = date.today()\n",
    "print(todays_date)"
   ]
  },
  {
   "cell_type": "code",
   "execution_count": 8,
   "metadata": {},
   "outputs": [
    {
     "name": "stdout",
     "output_type": "stream",
     "text": [
      "two 1\n"
     ]
    }
   ],
   "source": [
    "\n",
    "print(\"two\"+\" 1\")"
   ]
  },
  {
   "cell_type": "code",
   "execution_count": 3,
   "metadata": {},
   "outputs": [
    {
     "name": "stdout",
     "output_type": "stream",
     "text": [
      "not equals\n"
     ]
    }
   ],
   "source": [
    "a=8\n",
    "b=1\n",
    "if(b!=a):\n",
    "    print(\"not equals\")"
   ]
  },
  {
   "cell_type": "code",
   "execution_count": 4,
   "metadata": {},
   "outputs": [
    {
     "data": {
      "text/plain": [
       "25.0"
      ]
     },
     "execution_count": 4,
     "metadata": {},
     "output_type": "execute_result"
    }
   ],
   "source": [
    "100/4\n"
   ]
  },
  {
   "cell_type": "code",
   "execution_count": 5,
   "metadata": {},
   "outputs": [
    {
     "data": {
      "text/plain": [
       "True"
      ]
     },
     "execution_count": 5,
     "metadata": {},
     "output_type": "execute_result"
    }
   ],
   "source": [
    "1+2==3\n"
   ]
  },
  {
   "cell_type": "code",
   "execution_count": 7,
   "metadata": {},
   "outputs": [
    {
     "data": {
      "text/plain": [
       "False"
      ]
     },
     "execution_count": 7,
     "metadata": {},
     "output_type": "execute_result"
    }
   ],
   "source": [
    "1.2+2.2==float(3.4)\n"
   ]
  },
  {
   "cell_type": "code",
   "execution_count": 8,
   "metadata": {},
   "outputs": [
    {
     "ename": "SyntaxError",
     "evalue": "invalid syntax (<ipython-input-8-f96720dd9bf3>, line 2)",
     "output_type": "error",
     "traceback": [
      "\u001b[1;36m  File \u001b[1;32m\"<ipython-input-8-f96720dd9bf3>\"\u001b[1;36m, line \u001b[1;32m2\u001b[0m\n\u001b[1;33m    x=1.1+2.2.2\u001b[0m\n\u001b[1;37m             ^\u001b[0m\n\u001b[1;31mSyntaxError\u001b[0m\u001b[1;31m:\u001b[0m invalid syntax\n"
     ]
    }
   ],
   "source": [
    "threshold=0.00001\n",
    "x=1.1+2.2.2"
   ]
  },
  {
   "cell_type": "code",
   "execution_count": 1,
   "metadata": {},
   "outputs": [
    {
     "data": {
      "text/plain": [
       "200"
      ]
     },
     "execution_count": 1,
     "metadata": {},
     "output_type": "execute_result"
    }
   ],
   "source": [
    "a=100\n",
    "b=200\n",
    "a and b"
   ]
  },
  {
   "cell_type": "code",
   "execution_count": 6,
   "metadata": {},
   "outputs": [
    {
     "name": "stdout",
     "output_type": "stream",
     "text": [
      "Collecting pyarrow"
     ]
    },
    {
     "name": "stderr",
     "output_type": "stream",
     "text": [
      "  ERROR: Command errored out with exit status 1:\n",
      "   command: 'c:\\users\\aarohi mangal\\appdata\\local\\programs\\python\\python38-32\\python.exe' 'c:\\users\\aarohi mangal\\appdata\\local\\programs\\python\\python38-32\\lib\\site-packages\\pip' install --ignore-installed --no-user --prefix 'C:\\Users\\Aarohi Mangal\\AppData\\Local\\Temp\\pip-build-env-3j4sxjqt\\overlay' --no-warn-script-location --no-binary :none: --only-binary :none: -i https://pypi.org/simple -- 'cython >= 0.29' 'numpy==1.14.5; python_version<'\"'\"'3.7'\"'\"'' 'numpy==1.16.0; python_version>='\"'\"'3.7'\"'\"'' setuptools setuptools_scm wheel\n",
      "       cwd: None\n",
      "  Complete output (294 lines):\n",
      "  Ignoring numpy: markers 'python_version < \"3.7\"' don't match your environment\n",
      "  Collecting cython>=0.29\n",
      "    Using cached Cython-0.29.21-cp38-cp38-win32.whl (1.6 MB)\n",
      "  Collecting numpy==1.16.0\n",
      "    Using cached numpy-1.16.0.zip (5.1 MB)\n",
      "  Collecting setuptools\n",
      "    Using cached setuptools-50.3.0-py3-none-any.whl (785 kB)\n",
      "  Collecting setuptools_scm\n",
      "    Using cached setuptools_scm-4.1.2-py2.py3-none-any.whl (27 kB)\n",
      "  Collecting wheel\n",
      "    Using cached wheel-0.35.1-py2.py3-none-any.whl (33 kB)\n",
      "  Using legacy 'setup.py install' for numpy, since package 'wheel' is not installed.\n",
      "  Installing collected packages: cython, numpy, setuptools, setuptools-scm, wheel\n",
      "      Running setup.py install for numpy: started\n",
      "      Running setup.py install for numpy: finished with status 'error'\n",
      "      ERROR: Command errored out with exit status 1:\n",
      "       command: 'c:\\users\\aarohi mangal\\appdata\\local\\programs\\python\\python38-32\\python.exe' -u -c 'import sys, setuptools, tokenize; sys.argv[0] = '\"'\"'C:\\\\Users\\\\Aarohi Mangal\\\\AppData\\\\Local\\\\Temp\\\\pip-install-fk4f8c7d\\\\numpy\\\\setup.py'\"'\"'; __file__='\"'\"'C:\\\\Users\\\\Aarohi Mangal\\\\AppData\\\\Local\\\\Temp\\\\pip-install-fk4f8c7d\\\\numpy\\\\setup.py'\"'\"';f=getattr(tokenize, '\"'\"'open'\"'\"', open)(__file__);code=f.read().replace('\"'\"'\\r\\n'\"'\"', '\"'\"'\\n'\"'\"');f.close();exec(compile(code, __file__, '\"'\"'exec'\"'\"'))' install --record 'C:\\Users\\Aarohi Mangal\\AppData\\Local\\Temp\\pip-record-mg40oew7\\install-record.txt' --single-version-externally-managed --prefix 'C:\\Users\\Aarohi Mangal\\AppData\\Local\\Temp\\pip-build-env-3j4sxjqt\\overlay' --compile --install-headers 'C:\\Users\\Aarohi Mangal\\AppData\\Local\\Temp\\pip-build-env-3j4sxjqt\\overlay\\Include\\numpy'\n",
      "           cwd: C:\\Users\\Aarohi Mangal\\AppData\\Local\\Temp\\pip-install-fk4f8c7d\\numpy\\\n",
      "      Complete output (273 lines):\n",
      "      Running from numpy source directory.\n",
      "  \n",
      "      Note: if you need reliable uninstall behavior, then install\n",
      "      with pip instead of using `setup.py install`:\n",
      "  \n",
      "        - `pip install .`       (from a git repo or downloaded source\n",
      "                                 release)\n",
      "        - `pip install numpy`   (last NumPy release on PyPi)\n",
      "  \n",
      "  \n",
      "      C:\\Users\\Aarohi Mangal\\AppData\\Local\\Temp\\pip-install-fk4f8c7d\\numpy\\numpy\\distutils\\misc_util.py:476: SyntaxWarning: \"is\" with a literal. Did you mean \"==\"?\n",
      "        return is_string(s) and ('*' in s or '?' is s)\n",
      "      blas_opt_info:\n",
      "      blas_mkl_info:\n",
      "      No module named 'numpy.distutils._msvccompiler' in numpy.distutils; trying from distutils\n",
      "      customize MSVCCompiler\n",
      "        libraries mkl_rt not found in ['c:\\\\users\\\\aarohi mangal\\\\appdata\\\\local\\\\programs\\\\python\\\\python38-32\\\\lib', 'C:\\\\', 'c:\\\\users\\\\aarohi mangal\\\\appdata\\\\local\\\\programs\\\\python\\\\python38-32\\\\libs']\n",
      "        NOT AVAILABLE\n",
      "  \n",
      "      blis_info:\n",
      "      No module named 'numpy.distutils._msvccompiler' in numpy.distutils; trying from distutils\n"
     ]
    },
    {
     "name": "stdout",
     "output_type": "stream",
     "text": [
      "\n",
      "  Using cached pyarrow-1.0.1.tar.gz (1.3 MB)\n",
      "  Installing build dependencies: started\n",
      "  Installing build dependencies: finished with status 'error'\n"
     ]
    },
    {
     "name": "stderr",
     "output_type": "stream",
     "text": [
      "      customize MSVCCompiler\n",
      "        libraries blis not found in ['c:\\\\users\\\\aarohi mangal\\\\appdata\\\\local\\\\programs\\\\python\\\\python38-32\\\\lib', 'C:\\\\', 'c:\\\\users\\\\aarohi mangal\\\\appdata\\\\local\\\\programs\\\\python\\\\python38-32\\\\libs']\n",
      "        NOT AVAILABLE\n",
      "  \n",
      "      openblas_info:\n",
      "      No module named 'numpy.distutils._msvccompiler' in numpy.distutils; trying from distutils\n",
      "      customize MSVCCompiler\n",
      "      No module named 'numpy.distutils._msvccompiler' in numpy.distutils; trying from distutils\n",
      "      customize MSVCCompiler\n",
      "        libraries openblas not found in ['c:\\\\users\\\\aarohi mangal\\\\appdata\\\\local\\\\programs\\\\python\\\\python38-32\\\\lib', 'C:\\\\', 'c:\\\\users\\\\aarohi mangal\\\\appdata\\\\local\\\\programs\\\\python\\\\python38-32\\\\libs']\n",
      "      get_default_fcompiler: matching types: '['gnu', 'intelv', 'absoft', 'compaqv', 'intelev', 'gnu95', 'g95', 'intelvem', 'intelem', 'flang']'\n",
      "      customize GnuFCompiler\n",
      "      Could not locate executable g77\n",
      "      Could not locate executable f77\n",
      "      customize IntelVisualFCompiler\n",
      "      Could not locate executable ifort\n",
      "      Could not locate executable ifl\n",
      "      customize AbsoftFCompiler\n",
      "      Could not locate executable f90\n",
      "      customize CompaqVisualFCompiler\n",
      "      Could not locate executable DF\n",
      "      customize IntelItaniumVisualFCompiler\n",
      "      Could not locate executable efl\n",
      "      customize Gnu95FCompiler\n",
      "      Could not locate executable gfortran\n",
      "      Could not locate executable f95\n",
      "      customize G95FCompiler\n",
      "      Could not locate executable g95\n",
      "      customize IntelEM64VisualFCompiler\n",
      "      customize IntelEM64TFCompiler\n",
      "      Could not locate executable efort\n",
      "      Could not locate executable efc\n",
      "      customize PGroupFlangCompiler\n",
      "      Could not locate executable flang\n",
      "      don't know how to compile Fortran code on platform 'nt'\n",
      "        NOT AVAILABLE\n",
      "  \n",
      "      atlas_3_10_blas_threads_info:\n",
      "      Setting PTATLAS=ATLAS\n",
      "      No module named 'numpy.distutils._msvccompiler' in numpy.distutils; trying from distutils\n",
      "      customize MSVCCompiler\n",
      "        libraries tatlas not found in ['c:\\\\users\\\\aarohi mangal\\\\appdata\\\\local\\\\programs\\\\python\\\\python38-32\\\\lib', 'C:\\\\', 'c:\\\\users\\\\aarohi mangal\\\\appdata\\\\local\\\\programs\\\\python\\\\python38-32\\\\libs']\n",
      "        NOT AVAILABLE\n",
      "  \n",
      "      atlas_3_10_blas_info:\n",
      "      No module named 'numpy.distutils._msvccompiler' in numpy.distutils; trying from distutils\n",
      "      customize MSVCCompiler\n",
      "        libraries satlas not found in ['c:\\\\users\\\\aarohi mangal\\\\appdata\\\\local\\\\programs\\\\python\\\\python38-32\\\\lib', 'C:\\\\', 'c:\\\\users\\\\aarohi mangal\\\\appdata\\\\local\\\\programs\\\\python\\\\python38-32\\\\libs']\n",
      "        NOT AVAILABLE\n",
      "  \n",
      "      atlas_blas_threads_info:\n",
      "      Setting PTATLAS=ATLAS\n",
      "      No module named 'numpy.distutils._msvccompiler' in numpy.distutils; trying from distutils\n",
      "      customize MSVCCompiler\n",
      "        libraries ptf77blas,ptcblas,atlas not found in ['c:\\\\users\\\\aarohi mangal\\\\appdata\\\\local\\\\programs\\\\python\\\\python38-32\\\\lib', 'C:\\\\', 'c:\\\\users\\\\aarohi mangal\\\\appdata\\\\local\\\\programs\\\\python\\\\python38-32\\\\libs']\n",
      "        NOT AVAILABLE\n",
      "  \n",
      "      atlas_blas_info:\n",
      "      No module named 'numpy.distutils._msvccompiler' in numpy.distutils; trying from distutils\n",
      "      customize MSVCCompiler\n",
      "        libraries f77blas,cblas,atlas not found in ['c:\\\\users\\\\aarohi mangal\\\\appdata\\\\local\\\\programs\\\\python\\\\python38-32\\\\lib', 'C:\\\\', 'c:\\\\users\\\\aarohi mangal\\\\appdata\\\\local\\\\programs\\\\python\\\\python38-32\\\\libs']\n",
      "        NOT AVAILABLE\n",
      "  \n",
      "      accelerate_info:\n",
      "        NOT AVAILABLE\n",
      "  \n",
      "      C:\\Users\\Aarohi Mangal\\AppData\\Local\\Temp\\pip-install-fk4f8c7d\\numpy\\numpy\\distutils\\system_info.py:625: UserWarning:\n",
      "          Atlas (http://math-atlas.sourceforge.net/) libraries not found.\n",
      "          Directories to search for the libraries can be specified in the\n",
      "          numpy/distutils/site.cfg file (section [atlas]) or by setting\n",
      "          the ATLAS environment variable.\n",
      "        self.calc_info()\n",
      "      blas_info:\n",
      "      No module named 'numpy.distutils._msvccompiler' in numpy.distutils; trying from distutils\n",
      "      customize MSVCCompiler\n",
      "        libraries blas not found in ['c:\\\\users\\\\aarohi mangal\\\\appdata\\\\local\\\\programs\\\\python\\\\python38-32\\\\lib', 'C:\\\\', 'c:\\\\users\\\\aarohi mangal\\\\appdata\\\\local\\\\programs\\\\python\\\\python38-32\\\\libs']\n",
      "        NOT AVAILABLE\n",
      "  \n",
      "      C:\\Users\\Aarohi Mangal\\AppData\\Local\\Temp\\pip-install-fk4f8c7d\\numpy\\numpy\\distutils\\system_info.py:625: UserWarning:\n",
      "          Blas (http://www.netlib.org/blas/) libraries not found.\n",
      "          Directories to search for the libraries can be specified in the\n",
      "          numpy/distutils/site.cfg file (section [blas]) or by setting\n",
      "          the BLAS environment variable.\n",
      "        self.calc_info()\n",
      "      blas_src_info:\n",
      "        NOT AVAILABLE\n",
      "  \n",
      "      C:\\Users\\Aarohi Mangal\\AppData\\Local\\Temp\\pip-install-fk4f8c7d\\numpy\\numpy\\distutils\\system_info.py:625: UserWarning:\n",
      "          Blas (http://www.netlib.org/blas/) sources not found.\n",
      "          Directories to search for the sources can be specified in the\n",
      "          numpy/distutils/site.cfg file (section [blas_src]) or by setting\n",
      "          the BLAS_SRC environment variable.\n",
      "        self.calc_info()\n",
      "        NOT AVAILABLE\n",
      "  \n",
      "      'svnversion' is not recognized as an internal or external command,\n",
      "      operable program or batch file.\n",
      "      non-existing path in 'numpy\\\\distutils': 'site.cfg'\n",
      "      lapack_opt_info:\n",
      "      lapack_mkl_info:\n",
      "      No module named 'numpy.distutils._msvccompiler' in numpy.distutils; trying from distutils\n",
      "      customize MSVCCompiler\n",
      "        libraries mkl_rt not found in ['c:\\\\users\\\\aarohi mangal\\\\appdata\\\\local\\\\programs\\\\python\\\\python38-32\\\\lib', 'C:\\\\', 'c:\\\\users\\\\aarohi mangal\\\\appdata\\\\local\\\\programs\\\\python\\\\python38-32\\\\libs']\n",
      "        NOT AVAILABLE\n",
      "  \n",
      "      openblas_lapack_info:\n",
      "      No module named 'numpy.distutils._msvccompiler' in numpy.distutils; trying from distutils\n",
      "      customize MSVCCompiler\n",
      "      No module named 'numpy.distutils._msvccompiler' in numpy.distutils; trying from distutils\n",
      "      customize MSVCCompiler\n",
      "        libraries openblas not found in ['c:\\\\users\\\\aarohi mangal\\\\appdata\\\\local\\\\programs\\\\python\\\\python38-32\\\\lib', 'C:\\\\', 'c:\\\\users\\\\aarohi mangal\\\\appdata\\\\local\\\\programs\\\\python\\\\python38-32\\\\libs']\n",
      "        NOT AVAILABLE\n",
      "  \n",
      "      openblas_clapack_info:\n",
      "      No module named 'numpy.distutils._msvccompiler' in numpy.distutils; trying from distutils\n",
      "      customize MSVCCompiler\n",
      "      No module named 'numpy.distutils._msvccompiler' in numpy.distutils; trying from distutils\n",
      "      customize MSVCCompiler\n",
      "        libraries openblas,lapack not found in ['c:\\\\users\\\\aarohi mangal\\\\appdata\\\\local\\\\programs\\\\python\\\\python38-32\\\\lib', 'C:\\\\', 'c:\\\\users\\\\aarohi mangal\\\\appdata\\\\local\\\\programs\\\\python\\\\python38-32\\\\libs']\n",
      "        NOT AVAILABLE\n",
      "  \n",
      "      atlas_3_10_threads_info:\n",
      "      Setting PTATLAS=ATLAS\n",
      "      No module named 'numpy.distutils._msvccompiler' in numpy.distutils; trying from distutils\n",
      "      customize MSVCCompiler\n",
      "        libraries lapack_atlas not found in c:\\users\\aarohi mangal\\appdata\\local\\programs\\python\\python38-32\\lib\n",
      "      No module named 'numpy.distutils._msvccompiler' in numpy.distutils; trying from distutils\n",
      "      customize MSVCCompiler\n",
      "        libraries tatlas,tatlas not found in c:\\users\\aarohi mangal\\appdata\\local\\programs\\python\\python38-32\\lib\n",
      "      No module named 'numpy.distutils._msvccompiler' in numpy.distutils; trying from distutils\n",
      "      customize MSVCCompiler\n",
      "        libraries lapack_atlas not found in C:\\\n",
      "      No module named 'numpy.distutils._msvccompiler' in numpy.distutils; trying from distutils\n",
      "      customize MSVCCompiler\n",
      "        libraries tatlas,tatlas not found in C:\\\n",
      "      No module named 'numpy.distutils._msvccompiler' in numpy.distutils; trying from distutils\n",
      "      customize MSVCCompiler\n",
      "        libraries lapack_atlas not found in c:\\users\\aarohi mangal\\appdata\\local\\programs\\python\\python38-32\\libs\n",
      "      No module named 'numpy.distutils._msvccompiler' in numpy.distutils; trying from distutils\n",
      "      customize MSVCCompiler\n",
      "        libraries tatlas,tatlas not found in c:\\users\\aarohi mangal\\appdata\\local\\programs\\python\\python38-32\\libs\n",
      "      <class 'numpy.distutils.system_info.atlas_3_10_threads_info'>\n",
      "        NOT AVAILABLE\n",
      "  \n",
      "      atlas_3_10_info:\n",
      "      No module named 'numpy.distutils._msvccompiler' in numpy.distutils; trying from distutils\n",
      "      customize MSVCCompiler\n",
      "        libraries lapack_atlas not found in c:\\users\\aarohi mangal\\appdata\\local\\programs\\python\\python38-32\\lib\n",
      "      No module named 'numpy.distutils._msvccompiler' in numpy.distutils; trying from distutils\n",
      "      customize MSVCCompiler\n",
      "        libraries satlas,satlas not found in c:\\users\\aarohi mangal\\appdata\\local\\programs\\python\\python38-32\\lib\n",
      "      No module named 'numpy.distutils._msvccompiler' in numpy.distutils; trying from distutils\n",
      "      customize MSVCCompiler\n",
      "        libraries lapack_atlas not found in C:\\\n",
      "      No module named 'numpy.distutils._msvccompiler' in numpy.distutils; trying from distutils\n",
      "      customize MSVCCompiler\n",
      "        libraries satlas,satlas not found in C:\\\n",
      "      No module named 'numpy.distutils._msvccompiler' in numpy.distutils; trying from distutils\n",
      "      customize MSVCCompiler\n",
      "        libraries lapack_atlas not found in c:\\users\\aarohi mangal\\appdata\\local\\programs\\python\\python38-32\\libs\n",
      "      No module named 'numpy.distutils._msvccompiler' in numpy.distutils; trying from distutils\n",
      "      customize MSVCCompiler\n",
      "        libraries satlas,satlas not found in c:\\users\\aarohi mangal\\appdata\\local\\programs\\python\\python38-32\\libs\n",
      "      <class 'numpy.distutils.system_info.atlas_3_10_info'>\n",
      "        NOT AVAILABLE\n",
      "  \n",
      "      atlas_threads_info:\n",
      "      Setting PTATLAS=ATLAS\n",
      "      No module named 'numpy.distutils._msvccompiler' in numpy.distutils; trying from distutils\n",
      "      customize MSVCCompiler\n",
      "        libraries lapack_atlas not found in c:\\users\\aarohi mangal\\appdata\\local\\programs\\python\\python38-32\\lib\n",
      "      No module named 'numpy.distutils._msvccompiler' in numpy.distutils; trying from distutils\n",
      "      customize MSVCCompiler\n",
      "        libraries ptf77blas,ptcblas,atlas not found in c:\\users\\aarohi mangal\\appdata\\local\\programs\\python\\python38-32\\lib\n",
      "      No module named 'numpy.distutils._msvccompiler' in numpy.distutils; trying from distutils\n",
      "      customize MSVCCompiler\n",
      "        libraries lapack_atlas not found in C:\\\n",
      "      No module named 'numpy.distutils._msvccompiler' in numpy.distutils; trying from distutils\n",
      "      customize MSVCCompiler\n",
      "        libraries ptf77blas,ptcblas,atlas not found in C:\\\n",
      "      No module named 'numpy.distutils._msvccompiler' in numpy.distutils; trying from distutils\n",
      "      customize MSVCCompiler\n",
      "        libraries lapack_atlas not found in c:\\users\\aarohi mangal\\appdata\\local\\programs\\python\\python38-32\\libs\n",
      "      No module named 'numpy.distutils._msvccompiler' in numpy.distutils; trying from distutils\n",
      "      customize MSVCCompiler\n",
      "        libraries ptf77blas,ptcblas,atlas not found in c:\\users\\aarohi mangal\\appdata\\local\\programs\\python\\python38-32\\libs\n",
      "      <class 'numpy.distutils.system_info.atlas_threads_info'>\n",
      "        NOT AVAILABLE\n",
      "  \n",
      "      atlas_info:\n",
      "      No module named 'numpy.distutils._msvccompiler' in numpy.distutils; trying from distutils\n",
      "      customize MSVCCompiler\n",
      "        libraries lapack_atlas not found in c:\\users\\aarohi mangal\\appdata\\local\\programs\\python\\python38-32\\lib\n",
      "      No module named 'numpy.distutils._msvccompiler' in numpy.distutils; trying from distutils\n",
      "      customize MSVCCompiler\n",
      "        libraries f77blas,cblas,atlas not found in c:\\users\\aarohi mangal\\appdata\\local\\programs\\python\\python38-32\\lib\n",
      "      No module named 'numpy.distutils._msvccompiler' in numpy.distutils; trying from distutils\n",
      "      customize MSVCCompiler\n",
      "        libraries lapack_atlas not found in C:\\\n",
      "      No module named 'numpy.distutils._msvccompiler' in numpy.distutils; trying from distutils\n",
      "      customize MSVCCompiler\n",
      "        libraries f77blas,cblas,atlas not found in C:\\\n",
      "      No module named 'numpy.distutils._msvccompiler' in numpy.distutils; trying from distutils\n",
      "      customize MSVCCompiler\n",
      "        libraries lapack_atlas not found in c:\\users\\aarohi mangal\\appdata\\local\\programs\\python\\python38-32\\libs\n",
      "      No module named 'numpy.distutils._msvccompiler' in numpy.distutils; trying from distutils\n",
      "      customize MSVCCompiler\n",
      "        libraries f77blas,cblas,atlas not found in c:\\users\\aarohi mangal\\appdata\\local\\programs\\python\\python38-32\\libs\n",
      "      <class 'numpy.distutils.system_info.atlas_info'>\n",
      "        NOT AVAILABLE\n",
      "  \n",
      "      lapack_info:\n",
      "      No module named 'numpy.distutils._msvccompiler' in numpy.distutils; trying from distutils\n",
      "      customize MSVCCompiler\n",
      "        libraries lapack not found in ['c:\\\\users\\\\aarohi mangal\\\\appdata\\\\local\\\\programs\\\\python\\\\python38-32\\\\lib', 'C:\\\\', 'c:\\\\users\\\\aarohi mangal\\\\appdata\\\\local\\\\programs\\\\python\\\\python38-32\\\\libs']\n",
      "        NOT AVAILABLE\n",
      "  \n",
      "      C:\\Users\\Aarohi Mangal\\AppData\\Local\\Temp\\pip-install-fk4f8c7d\\numpy\\numpy\\distutils\\system_info.py:625: UserWarning:\n",
      "          Lapack (http://www.netlib.org/lapack/) libraries not found.\n",
      "          Directories to search for the libraries can be specified in the\n",
      "          numpy/distutils/site.cfg file (section [lapack]) or by setting\n",
      "          the LAPACK environment variable.\n",
      "        self.calc_info()\n",
      "      lapack_src_info:\n",
      "        NOT AVAILABLE\n",
      "  \n",
      "      C:\\Users\\Aarohi Mangal\\AppData\\Local\\Temp\\pip-install-fk4f8c7d\\numpy\\numpy\\distutils\\system_info.py:625: UserWarning:\n",
      "          Lapack (http://www.netlib.org/lapack/) sources not found.\n",
      "          Directories to search for the sources can be specified in the\n",
      "          numpy/distutils/site.cfg file (section [lapack_src]) or by setting\n",
      "          the LAPACK_SRC environment variable.\n",
      "        self.calc_info()\n",
      "        NOT AVAILABLE\n",
      "  \n",
      "      c:\\users\\aarohi mangal\\appdata\\local\\programs\\python\\python38-32\\lib\\distutils\\dist.py:274: UserWarning: Unknown distribution option: 'define_macros'\n",
      "        warnings.warn(msg)\n",
      "      running install\n",
      "      running build\n",
      "      running config_cc\n",
      "      unifing config_cc, config, build_clib, build_ext, build commands --compiler options\n",
      "      running config_fc\n",
      "      unifing config_fc, config, build_clib, build_ext, build commands --fcompiler options\n",
      "      running build_src\n",
      "      build_src\n",
      "      building py_modules sources\n",
      "      creating build\n",
      "      creating build\\src.win32-3.8\n",
      "      creating build\\src.win32-3.8\\numpy\n",
      "      creating build\\src.win32-3.8\\numpy\\distutils\n",
      "      building library \"npymath\" sources\n",
      "      No module named 'numpy.distutils._msvccompiler' in numpy.distutils; trying from distutils\n",
      "      error: Microsoft Visual C++ 14.0 is required. Get it with \"Microsoft Visual C++ Build Tools\": https://visualstudio.microsoft.com/downloads/\n",
      "      ----------------------------------------\n",
      "  ERROR: Command errored out with exit status 1: 'c:\\users\\aarohi mangal\\appdata\\local\\programs\\python\\python38-32\\python.exe' -u -c 'import sys, setuptools, tokenize; sys.argv[0] = '\"'\"'C:\\\\Users\\\\Aarohi Mangal\\\\AppData\\\\Local\\\\Temp\\\\pip-install-fk4f8c7d\\\\numpy\\\\setup.py'\"'\"'; __file__='\"'\"'C:\\\\Users\\\\Aarohi Mangal\\\\AppData\\\\Local\\\\Temp\\\\pip-install-fk4f8c7d\\\\numpy\\\\setup.py'\"'\"';f=getattr(tokenize, '\"'\"'open'\"'\"', open)(__file__);code=f.read().replace('\"'\"'\\r\\n'\"'\"', '\"'\"'\\n'\"'\"');f.close();exec(compile(code, __file__, '\"'\"'exec'\"'\"'))' install --record 'C:\\Users\\Aarohi Mangal\\AppData\\Local\\Temp\\pip-record-mg40oew7\\install-record.txt' --single-version-externally-managed --prefix 'C:\\Users\\Aarohi Mangal\\AppData\\Local\\Temp\\pip-build-env-3j4sxjqt\\overlay' --compile --install-headers 'C:\\Users\\Aarohi Mangal\\AppData\\Local\\Temp\\pip-build-env-3j4sxjqt\\overlay\\Include\\numpy' Check the logs for full command output.\n",
      "  ----------------------------------------\n",
      "ERROR: Command errored out with exit status 1: 'c:\\users\\aarohi mangal\\appdata\\local\\programs\\python\\python38-32\\python.exe' 'c:\\users\\aarohi mangal\\appdata\\local\\programs\\python\\python38-32\\lib\\site-packages\\pip' install --ignore-installed --no-user --prefix 'C:\\Users\\Aarohi Mangal\\AppData\\Local\\Temp\\pip-build-env-3j4sxjqt\\overlay' --no-warn-script-location --no-binary :none: --only-binary :none: -i https://pypi.org/simple -- 'cython >= 0.29' 'numpy==1.14.5; python_version<'\"'\"'3.7'\"'\"'' 'numpy==1.16.0; python_version>='\"'\"'3.7'\"'\"'' setuptools setuptools_scm wheel Check the logs for full command output.\n"
     ]
    }
   ],
   "source": [
    "!pip install pyarrow\n"
   ]
  },
  {
   "cell_type": "code",
   "execution_count": 4,
   "metadata": {},
   "outputs": [
    {
     "name": "stderr",
     "output_type": "stream",
     "text": [
      "\n",
      "  \n",
      "      C:\\Users\\Aarohi Mangal\\AppData\\Local\\Temp\\pip-install-0lk5higx\\numpy\\numpy\\distutils\\system_info.py:625: UserWarning:\n",
      "          Blas (http://www.netlib.org/blas/) sources not found.\n",
      "          Directories to search for the sources can be specified in the\n",
      "          numpy/distutils/site.cfg file (section [blas_src]) or by setting\n",
      "          the BLAS_SRC environment variable.\n",
      "        self.calc_info()\n",
      "        NOT AVAILABLE\n",
      "  \n",
      "      'svnversion' is not recognized as an internal or external command,\n",
      "      operable program or batch file.\n",
      "      non-existing path in 'numpy\\\\distutils': 'site.cfg'\n",
      "      lapack_opt_info:\n",
      "      lapack_mkl_info:\n",
      "      No module named 'numpy.distutils._msvccompiler' in numpy.distutils; trying from distutils\n",
      "      customize MSVCCompiler\n",
      "        libraries mkl_rt not found in ['c:\\\\users\\\\aarohi mangal\\\\appdata\\\\local\\\\programs\\\\python\\\\python38-32\\\\lib', 'C:\\\\', 'c:\\\\users\\\\aarohi mangal\\\\appdata\\\\local\\\\programs\\\\python\\\\python38-32\\\\libs']\n",
      "        NOT AVAILABLE\n",
      "  \n",
      "      openblas_lapack_info:\n",
      "      No module named 'numpy.distutils._msvccompiler' in numpy.distutils; trying from distutils\n",
      "      customize MSVCCompiler\n",
      "      No module named 'numpy.distutils._msvccompiler' in numpy.distutils; trying from distutils\n",
      "      customize MSVCCompiler\n",
      "        libraries openblas not found in ['c:\\\\users\\\\aarohi mangal\\\\appdata\\\\local\\\\programs\\\\python\\\\python38-32\\\\lib', 'C:\\\\', 'c:\\\\users\\\\aarohi mangal\\\\appdata\\\\local\\\\programs\\\\python\\\\python38-32\\\\libs']\n",
      "        NOT AVAILABLE\n",
      "  \n",
      "      openblas_clapack_info:\n",
      "      No module named 'numpy.distutils._msvccompiler' in numpy.distutils; trying from distutils\n",
      "      customize MSVCCompiler\n",
      "      No module named 'numpy.distutils._msvccompiler' in numpy.distutils; trying from distutils\n",
      "      customize MSVCCompiler\n",
      "        libraries openblas,lapack not found in ['c:\\\\users\\\\aarohi mangal\\\\appdata\\\\local\\\\programs\\\\python\\\\python38-32\\\\lib', 'C:\\\\', 'c:\\\\users\\\\aarohi mangal\\\\appdata\\\\local\\\\programs\\\\python\\\\python38-32\\\\libs']\n",
      "        NOT AVAILABLE\n",
      "  \n",
      "      atlas_3_10_threads_info:\n",
      "      Setting PTATLAS=ATLAS\n",
      "      No module named 'numpy.distutils._msvccompiler' in numpy.distutils; trying from distutils\n",
      "      customize MSVCCompiler\n",
      "        libraries lapack_atlas not found in c:\\users\\aarohi mangal\\appdata\\local\\programs\\python\\python38-32\\lib\n",
      "      No module named 'numpy.distutils._msvccompiler' in numpy.distutils; trying from distutils\n",
      "      customize MSVCCompiler\n",
      "        libraries tatlas,tatlas not found in c:\\users\\aarohi mangal\\appdata\\local\\programs\\python\\python38-32\\lib\n",
      "      No module named 'numpy.distutils._msvccompiler' in numpy.distutils; trying from distutils\n",
      "      customize MSVCCompiler\n",
      "        libraries lapack_atlas not found in C:\\\n",
      "      No module named 'numpy.distutils._msvccompiler' in numpy.distutils; trying from distutils\n",
      "      customize MSVCCompiler\n",
      "        libraries tatlas,tatlas not found in C:\\\n",
      "      No module named 'numpy.distutils._msvccompiler' in numpy.distutils; trying from distutils\n",
      "      customize MSVCCompiler\n",
      "        libraries lapack_atlas not found in c:\\users\\aarohi mangal\\appdata\\local\\programs\\python\\python38-32\\libs\n",
      "      No module named 'numpy.distutils._msvccompiler' in numpy.distutils; trying from distutils\n",
      "      customize MSVCCompiler\n",
      "        libraries tatlas,tatlas not found in c:\\users\\aarohi mangal\\appdata\\local\\programs\\python\\python38-32\\libs\n",
      "      <class 'numpy.distutils.system_info.atlas_3_10_threads_info'>\n",
      "        NOT AVAILABLE\n",
      "  \n",
      "      atlas_3_10_info:\n",
      "      No module named 'numpy.distutils._msvccompiler' in numpy.distutils; trying from distutils\n",
      "      customize MSVCCompiler\n",
      "        libraries lapack_atlas not found in c:\\users\\aarohi mangal\\appdata\\local\\programs\\python\\python38-32\\lib\n",
      "      No module named 'numpy.distutils._msvccompiler' in numpy.distutils; trying from distutils\n",
      "      customize MSVCCompiler\n",
      "        libraries satlas,satlas not found in c:\\users\\aarohi mangal\\appdata\\local\\programs\\python\\python38-32\\lib\n",
      "      No module named 'numpy.distutils._msvccompiler' in numpy.distutils; trying from distutils\n",
      "      customize MSVCCompiler\n",
      "        libraries lapack_atlas not found in C:\\\n",
      "      No module named 'numpy.distutils._msvccompiler' in numpy.distutils; trying from distutils\n",
      "      customize MSVCCompiler\n",
      "        libraries satlas,satlas not found in C:\\\n",
      "      No module named 'numpy.distutils._msvccompiler' in numpy.distutils; trying from distutils\n",
      "      customize MSVCCompiler\n",
      "        libraries lapack_atlas not found in c:\\users\\aarohi mangal\\appdata\\local\\programs\\python\\python38-32\\libs\n",
      "      No module named 'numpy.distutils._msvccompiler' in numpy.distutils; trying from distutils\n",
      "      customize MSVCCompiler\n",
      "        libraries satlas,satlas not found in c:\\users\\aarohi mangal\\appdata\\local\\programs\\python\\python38-32\\libs\n",
      "      <class 'numpy.distutils.system_info.atlas_3_10_info'>\n",
      "        NOT AVAILABLE\n",
      "  \n",
      "      atlas_threads_info:\n",
      "      Setting PTATLAS=ATLAS\n",
      "      No module named 'numpy.distutils._msvccompiler' in numpy.distutils; trying from distutils\n",
      "      customize MSVCCompiler\n",
      "        libraries lapack_atlas not found in c:\\users\\aarohi mangal\\appdata\\local\\programs\\python\\python38-32\\lib\n",
      "      No module named 'numpy.distutils._msvccompiler' in numpy.distutils; trying from distutils\n",
      "      customize MSVCCompiler\n",
      "        libraries ptf77blas,ptcblas,atlas not found in c:\\users\\aarohi mangal\\appdata\\local\\programs\\python\\python38-32\\lib\n",
      "      No module named 'numpy.distutils._msvccompiler' in numpy.distutils; trying from distutils\n",
      "      customize MSVCCompiler\n",
      "        libraries lapack_atlas not found in C:\\\n",
      "      No module named 'numpy.distutils._msvccompiler' in numpy.distutils; trying from distutils\n",
      "      customize MSVCCompiler\n",
      "        libraries ptf77blas,ptcblas,atlas not found in C:\\\n",
      "      No module named 'numpy.distutils._msvccompiler' in numpy.distutils; trying from distutils\n",
      "      customize MSVCCompiler\n",
      "        libraries lapack_atlas not found in c:\\users\\aarohi mangal\\appdata\\local\\programs\\python\\python38-32\\libs\n",
      "      No module named 'numpy.distutils._msvccompiler' in numpy.distutils; trying from distutils\n",
      "      customize MSVCCompiler\n",
      "        libraries ptf77blas,ptcblas,atlas not found in c:\\users\\aarohi mangal\\appdata\\local\\programs\\python\\python38-32\\libs\n",
      "      <class 'numpy.distutils.system_info.atlas_threads_info'>\n",
      "        NOT AVAILABLE\n",
      "  \n",
      "      atlas_info:\n",
      "      No module named 'numpy.distutils._msvccompiler' in numpy.distutils; trying from distutils\n",
      "      customize MSVCCompiler\n",
      "        libraries lapack_atlas not found in c:\\users\\aarohi mangal\\appdata\\local\\programs\\python\\python38-32\\lib\n",
      "      No module named 'numpy.distutils._msvccompiler' in numpy.distutils; trying from distutils\n",
      "      customize MSVCCompiler\n",
      "        libraries f77blas,cblas,atlas not found in c:\\users\\aarohi mangal\\appdata\\local\\programs\\python\\python38-32\\lib\n",
      "      No module named 'numpy.distutils._msvccompiler' in numpy.distutils; trying from distutils\n",
      "      customize MSVCCompiler\n",
      "        libraries lapack_atlas not found in C:\\\n",
      "      No module named 'numpy.distutils._msvccompiler' in numpy.distutils; trying from distutils\n",
      "      customize MSVCCompiler\n",
      "        libraries f77blas,cblas,atlas not found in C:\\\n",
      "      No module named 'numpy.distutils._msvccompiler' in numpy.distutils; trying from distutils\n",
      "      customize MSVCCompiler\n",
      "        libraries lapack_atlas not found in c:\\users\\aarohi mangal\\appdata\\local\\programs\\python\\python38-32\\libs\n",
      "      No module named 'numpy.distutils._msvccompiler' in numpy.distutils; trying from distutils\n",
      "      customize MSVCCompiler\n",
      "        libraries f77blas,cblas,atlas not found in c:\\users\\aarohi mangal\\appdata\\local\\programs\\python\\python38-32\\libs\n",
      "      <class 'numpy.distutils.system_info.atlas_info'>\n",
      "        NOT AVAILABLE\n",
      "  \n",
      "      lapack_info:\n",
      "      No module named 'numpy.distutils._msvccompiler' in numpy.distutils; trying from distutils\n",
      "      customize MSVCCompiler\n",
      "        libraries lapack not found in ['c:\\\\users\\\\aarohi mangal\\\\appdata\\\\local\\\\programs\\\\python\\\\python38-32\\\\lib', 'C:\\\\', 'c:\\\\users\\\\aarohi mangal\\\\appdata\\\\local\\\\programs\\\\python\\\\python38-32\\\\libs']\n",
      "        NOT AVAILABLE\n",
      "  \n",
      "      C:\\Users\\Aarohi Mangal\\AppData\\Local\\Temp\\pip-install-0lk5higx\\numpy\\numpy\\distutils\\system_info.py:625: UserWarning:\n",
      "          Lapack (http://www.netlib.org/lapack/) libraries not found.\n",
      "          Directories to search for the libraries can be specified in the\n",
      "          numpy/distutils/site.cfg file (section [lapack]) or by setting\n",
      "          the LAPACK environment variable.\n",
      "        self.calc_info()\n",
      "      lapack_src_info:\n",
      "        NOT AVAILABLE\n",
      "  \n",
      "      C:\\Users\\Aarohi Mangal\\AppData\\Local\\Temp\\pip-install-0lk5higx\\numpy\\numpy\\distutils\\system_info.py:625: UserWarning:\n",
      "          Lapack (http://www.netlib.org/lapack/) sources not found.\n",
      "          Directories to search for the sources can be specified in the\n",
      "          numpy/distutils/site.cfg file (section [lapack_src]) or by setting\n",
      "          the LAPACK_SRC environment variable.\n",
      "        self.calc_info()\n",
      "        NOT AVAILABLE\n",
      "  \n",
      "      c:\\users\\aarohi mangal\\appdata\\local\\programs\\python\\python38-32\\lib\\distutils\\dist.py:274: UserWarning: Unknown distribution option: 'define_macros'\n",
      "        warnings.warn(msg)\n",
      "      running install\n",
      "      running build\n",
      "      running config_cc\n",
      "      unifing config_cc, config, build_clib, build_ext, build commands --compiler options\n",
      "      running config_fc\n",
      "      unifing config_fc, config, build_clib, build_ext, build commands --fcompiler options\n",
      "      running build_src\n",
      "      build_src\n",
      "      building py_modules sources\n",
      "      creating build\n",
      "      creating build\\src.win32-3.8\n",
      "      creating build\\src.win32-3.8\\numpy\n",
      "      creating build\\src.win32-3.8\\numpy\\distutils\n",
      "      building library \"npymath\" sources\n",
      "      No module named 'numpy.distutils._msvccompiler' in numpy.distutils; trying from distutils\n",
      "      error: Microsoft Visual C++ 14.0 is required. Get it with \"Microsoft Visual C++ Build Tools\": https://visualstudio.microsoft.com/downloads/\n",
      "      ----------------------------------------\n",
      "  ERROR: Command errored out with exit status 1: 'c:\\users\\aarohi mangal\\appdata\\local\\programs\\python\\python38-32\\python.exe' -u -c 'import sys, setuptools, tokenize; sys.argv[0] = '\"'\"'C:\\\\Users\\\\Aarohi Mangal\\\\AppData\\\\Local\\\\Temp\\\\pip-install-0lk5higx\\\\numpy\\\\setup.py'\"'\"'; __file__='\"'\"'C:\\\\Users\\\\Aarohi Mangal\\\\AppData\\\\Local\\\\Temp\\\\pip-install-0lk5higx\\\\numpy\\\\setup.py'\"'\"';f=getattr(tokenize, '\"'\"'open'\"'\"', open)(__file__);code=f.read().replace('\"'\"'\\r\\n'\"'\"', '\"'\"'\\n'\"'\"');f.close();exec(compile(code, __file__, '\"'\"'exec'\"'\"'))' install --record 'C:\\Users\\Aarohi Mangal\\AppData\\Local\\Temp\\pip-record-vsc6yzlb\\install-record.txt' --single-version-externally-managed --prefix 'C:\\Users\\Aarohi Mangal\\AppData\\Local\\Temp\\pip-build-env-mi7iscgm\\overlay' --compile --install-headers 'C:\\Users\\Aarohi Mangal\\AppData\\Local\\Temp\\pip-build-env-mi7iscgm\\overlay\\Include\\numpy' Check the logs for full command output.\n",
      "  ----------------------------------------\n",
      "ERROR: Command errored out with exit status 1: 'c:\\users\\aarohi mangal\\appdata\\local\\programs\\python\\python38-32\\python.exe' 'c:\\users\\aarohi mangal\\appdata\\local\\programs\\python\\python38-32\\lib\\site-packages\\pip' install --ignore-installed --no-user --prefix 'C:\\Users\\Aarohi Mangal\\AppData\\Local\\Temp\\pip-build-env-mi7iscgm\\overlay' --no-warn-script-location --no-binary :none: --only-binary :none: -i https://pypi.org/simple -- 'cython >= 0.29' 'numpy==1.14.5; python_version<'\"'\"'3.7'\"'\"'' 'numpy==1.16.0; python_version>='\"'\"'3.7'\"'\"'' setuptools setuptools_scm wheel Check the logs for full command output.\n"
     ]
    },
    {
     "ename": "ModuleNotFoundError",
     "evalue": "No module named 'pyarrow'",
     "output_type": "error",
     "traceback": [
      "\u001b[1;31m---------------------------------------------------------------------------\u001b[0m",
      "\u001b[1;31mModuleNotFoundError\u001b[0m                       Traceback (most recent call last)",
      "\u001b[1;32m<ipython-input-4-f1048abcb32d>\u001b[0m in \u001b[0;36m<module>\u001b[1;34m\u001b[0m\n\u001b[1;32m----> 1\u001b[1;33m \u001b[1;32mimport\u001b[0m \u001b[0mpyarrow\u001b[0m\u001b[1;33m\u001b[0m\u001b[1;33m\u001b[0m\u001b[0m\n\u001b[0m",
      "\u001b[1;31mModuleNotFoundError\u001b[0m: No module named 'pyarrow'"
     ]
    }
   ],
   "source": [
    "import pyarrow"
   ]
  },
  {
   "cell_type": "code",
   "execution_count": 4,
   "metadata": {},
   "outputs": [
    {
     "name": "stdout",
     "output_type": "stream",
     "text": [
      "[('b', 2), ('m', 4), ('l', 5), ('d', 7)]\n"
     ]
    }
   ],
   "source": [
    "s={'l':5,'b':2,'m':4,'d':7}\n",
    "print(sorted(s.items(),key=lambda e:e[1]))"
   ]
  },
  {
   "cell_type": "code",
   "execution_count": 6,
   "metadata": {},
   "outputs": [
    {
     "name": "stdout",
     "output_type": "stream",
     "text": [
      "10\n"
     ]
    },
    {
     "ename": "NameError",
     "evalue": "name 'input_string' is not defined",
     "output_type": "error",
     "traceback": [
      "\u001b[1;31m---------------------------------------------------------------------------\u001b[0m",
      "\u001b[1;31mNameError\u001b[0m                                 Traceback (most recent call last)",
      "\u001b[1;32m<ipython-input-6-c2a89d52a5e0>\u001b[0m in \u001b[0;36m<module>\u001b[1;34m\u001b[0m\n\u001b[0;32m      2\u001b[0m \u001b[0ml\u001b[0m\u001b[1;33m=\u001b[0m\u001b[1;33m[\u001b[0m\u001b[1;33m]\u001b[0m\u001b[1;33m\u001b[0m\u001b[1;33m\u001b[0m\u001b[0m\n\u001b[0;32m      3\u001b[0m \u001b[0mn\u001b[0m\u001b[1;33m=\u001b[0m\u001b[0minput\u001b[0m\u001b[1;33m(\u001b[0m\u001b[1;33m)\u001b[0m\u001b[1;33m\u001b[0m\u001b[1;33m\u001b[0m\u001b[0m\n\u001b[1;32m----> 4\u001b[1;33m \u001b[0ml\u001b[0m  \u001b[1;33m=\u001b[0m \u001b[0minput_string\u001b[0m\u001b[1;33m.\u001b[0m\u001b[0msplit\u001b[0m\u001b[1;33m(\u001b[0m\u001b[1;33m)\u001b[0m\u001b[1;33m\u001b[0m\u001b[1;33m\u001b[0m\u001b[0m\n\u001b[0m\u001b[0;32m      5\u001b[0m \u001b[0ml1\u001b[0m\u001b[1;33m=\u001b[0m\u001b[1;33m[\u001b[0m\u001b[1;33m]\u001b[0m\u001b[1;33m\u001b[0m\u001b[1;33m\u001b[0m\u001b[0m\n\u001b[0;32m      6\u001b[0m \u001b[1;32mfor\u001b[0m \u001b[0mi\u001b[0m \u001b[1;32min\u001b[0m \u001b[0mrange\u001b[0m\u001b[1;33m(\u001b[0m\u001b[0mint\u001b[0m\u001b[1;33m(\u001b[0m\u001b[0minput\u001b[0m\u001b[1;33m(\u001b[0m\u001b[1;33m)\u001b[0m\u001b[1;33m)\u001b[0m\u001b[1;33m)\u001b[0m\u001b[1;33m:\u001b[0m\u001b[1;33m\u001b[0m\u001b[1;33m\u001b[0m\u001b[0m\n",
      "\u001b[1;31mNameError\u001b[0m: name 'input_string' is not defined"
     ]
    }
   ],
   "source": [
    "from collections import Counter\n",
    "l=[]\n",
    "n=input()\n",
    "l  = input_string.split()\n",
    "l1=[]\n",
    "for i in range(int(input())):\n",
    "    l[i]=input()\n",
    "l2=Counter(l)\n",
    "print(l2)"
   ]
  },
  {
   "cell_type": "code",
   "execution_count": 12,
   "metadata": {},
   "outputs": [
    {
     "data": {
      "text/plain": [
       "[2, 4, 5, 9, 11, 12]"
      ]
     },
     "execution_count": 12,
     "metadata": {},
     "output_type": "execute_result"
    }
   ],
   "source": [
    "a = {2, 4, 5, 9}\n",
    "b = {2, 4, 11, 12}\n",
    "c = a.intersection(b)\n",
    "d = list(a.union(b))\n",
    "d"
   ]
  },
  {
   "cell_type": "code",
   "execution_count": 14,
   "metadata": {},
   "outputs": [
    {
     "name": "stdout",
     "output_type": "stream",
     "text": [
      "2\n",
      "4\n",
      "5\n",
      "9\n",
      "11\n",
      "12\n"
     ]
    }
   ],
   "source": [
    "for i in range(len(d)):\n",
    "    print(d[i])"
   ]
  },
  {
   "cell_type": "code",
   "execution_count": 15,
   "metadata": {},
   "outputs": [
    {
     "name": "stdout",
     "output_type": "stream",
     "text": [
      "2\n",
      "4\n",
      "5\n",
      "9\n",
      "11\n",
      "12\n"
     ]
    }
   ],
   "source": [
    "for i in d:\n",
    "    print(i)"
   ]
  },
  {
   "cell_type": "code",
   "execution_count": 18,
   "metadata": {},
   "outputs": [
    {
     "name": "stdout",
     "output_type": "stream",
     "text": [
      "4\n",
      "2 4 5 9\n",
      "4 \n",
      "2 4 11 12\n",
      "[5, 9, 11, 12]\n"
     ]
    }
   ],
   "source": [
    "x=input()\n",
    "n = input()\n",
    "a = set(n.split())\n",
    "y=input()\n",
    "n1 =input()\n",
    "b = set(n1.split())\n",
    "c = a.intersection(b)\n",
    "d = a.union(b)\n",
    "e = list(map(int,d.difference(c)))\n",
    "e=sorted(e)\n",
    "for i in e:\n",
    "    print(i)"
   ]
  },
  {
   "cell_type": "code",
   "execution_count": 20,
   "metadata": {},
   "outputs": [
    {
     "name": "stdout",
     "output_type": "stream",
     "text": [
      "2\n",
      "1 2 3 1 2\n"
     ]
    },
    {
     "data": {
      "text/plain": [
       "{' ', '1', '2', '3'}"
      ]
     },
     "execution_count": 20,
     "metadata": {},
     "output_type": "execute_result"
    }
   ],
   "source": [
    "n=input()\n",
    "a=set(input())\n",
    "a"
   ]
  },
  {
   "cell_type": "code",
   "execution_count": 21,
   "metadata": {},
   "outputs": [
    {
     "data": {
      "text/plain": [
       "{'1', '2', '3'}"
      ]
     },
     "execution_count": 21,
     "metadata": {},
     "output_type": "execute_result"
    }
   ],
   "source": [
    "\n",
    "a=a .difference(\" \")\n",
    "a\n"
   ]
  },
  {
   "cell_type": "code",
   "execution_count": 34,
   "metadata": {},
   "outputs": [
    {
     "ename": "SyntaxError",
     "evalue": "invalid syntax (<ipython-input-34-fb062d107c06>, line 2)",
     "output_type": "error",
     "traceback": [
      "\u001b[1;36m  File \u001b[1;32m\"<ipython-input-34-fb062d107c06>\"\u001b[1;36m, line \u001b[1;32m2\u001b[0m\n\u001b[1;33m    Dehradun 5.78 308.20\u001b[0m\n\u001b[1;37m             ^\u001b[0m\n\u001b[1;31mSyntaxError\u001b[0m\u001b[1;31m:\u001b[0m invalid syntax\n"
     ]
    }
   ],
   "source": [
    "city.txt\n",
    "Dehradun 5.78 308.20\n",
    "Delhi 190 1484\n",
    "Jaipur 90 1000\n",
    "Gwalior 73.2 745\n",
    "Agra 123.4 1324.54\n",
    "\n",
    "temp.txt\n",
    "TV 45 78 89 90\n",
    "mobile 123 678 781 772\n",
    "laptop 200 126 678 465\n",
    "pendrive 45 76 56 80\n",
    "hardDisk 199 89 56 82\n",
    "Tablet 345 642 37 32\n",
    "ipod 74 64 32 47\n",
    "computer 57 14 89 43\n",
    "DVD 769 735 124 546\n",
    "gyser 643 357 437 426\n",
    "\n",
    "movie.txt\n",
    "Lagaan Ashutosh 98 2001\n",
    "Dangal Nitesh 110 2016\n",
    "Ran Akira 80 1985\n",
    "Killer Charles 160 1977\n",
    "Mad George 170 1979\n",
    "Last Hal 136 1973"
   ]
  },
  {
   "cell_type": "code",
   "execution_count": 102,
   "metadata": {},
   "outputs": [
    {
     "name": "stdout",
     "output_type": "stream",
     "text": [
      "Dehradun 5.78 308.20\n",
      "Delhi 190 1484\n",
      "Jaipur 90 1000\n",
      "Gwalior 7.23 745\n",
      "Agra 123.4 1324.54\n"
     ]
    }
   ],
   "source": [
    "with open ('C:/Users/Aarohi Mangal/Desktop/Sem 5/Python/city.txt', 'r') as f:\n",
    "    print(f.read())"
   ]
  },
  {
   "cell_type": "code",
   "execution_count": 28,
   "metadata": {},
   "outputs": [
    {
     "name": "stdout",
     "output_type": "stream",
     "text": [
      "Delhi\n",
      "Jaipur\n",
      "Agra\n"
     ]
    }
   ],
   "source": [
    "with open ('C:/Users/Aarohi Mangal/Desktop/Sem 5/Python/city.txt', 'r') as f:\n",
    "    l=f.readlines()\n",
    "    for i in l:\n",
    "        city=i.rstrip('\\n').split(' ')\n",
    "        if (float(city[1])>10):\n",
    "            print(city[0])"
   ]
  },
  {
   "cell_type": "code",
   "execution_count": 33,
   "metadata": {},
   "outputs": [
    {
     "name": "stdout",
     "output_type": "stream",
     "text": [
      "4861.74\n"
     ]
    }
   ],
   "source": [
    "t_area=0\n",
    "with open ('C:/Users/Aarohi Mangal/Desktop/Sem 5/Python/city.txt', 'r') as f:\n",
    "    l=f.readlines()\n",
    "    for i in l:\n",
    "        city=i.rstrip('\\n').split(' ')\n",
    "        t_area=float(city[2])+t_area\n",
    "print(t_area)"
   ]
  },
  {
   "cell_type": "code",
   "execution_count": 37,
   "metadata": {},
   "outputs": [
    {
     "name": "stdout",
     "output_type": "stream",
     "text": [
      "TV 45 78 89 90\n",
      "mobile 123 678 781 772\n",
      "laptop 200 126 678 465\n",
      "pendrive 45 76 56 80\n",
      "hardDisk 199 89 56 82\n",
      "Tablet 345 642 37 32\n",
      "ipod 74 64 32 47\n",
      "computer 57 14 89 43\n",
      "DVD 769 735 124 546\n",
      "gyser 643 357 437 426\n"
     ]
    }
   ],
   "source": [
    "with open ('C:/Users/Aarohi Mangal/Desktop/Sem 5/Python/temp.txt', 'r') as f:\n",
    "    print(f.read())"
   ]
  },
  {
   "cell_type": "code",
   "execution_count": 44,
   "metadata": {},
   "outputs": [
    {
     "name": "stdout",
     "output_type": "stream",
     "text": [
      "250.0 285.9 237.9 258.3\n"
     ]
    }
   ],
   "source": [
    "avg_sales_first=0\n",
    "avg_sales_second=0\n",
    "avg_sales_third=0\n",
    "avg_sales_fourth=0\n",
    "with open ('C:/Users/Aarohi Mangal/Desktop/Sem 5/Python/temp.txt', 'r') as f:\n",
    "    l=f.readlines()\n",
    "    for i in l:\n",
    "        products=i.rstrip(\"\\n\").split(\" \")\n",
    "        #avg_sale=products[1]+products[2]+products[3]+products[4]/4\n",
    "        avg_sales_first=int(products[1])+avg_sales_first\n",
    "        avg_sales_second=int(products[2])+avg_sales_second\n",
    "        avg_sales_third=int(products[3])+avg_sales_third\n",
    "        avg_sales_fourth=int(products[4])+avg_sales_fourth\n",
    "    print(f\"{avg_sales_first/10} {avg_sales_second/10} {avg_sales_third/10} {avg_sales_fourth/10}\")"
   ]
  },
  {
   "cell_type": "code",
   "execution_count": 105,
   "metadata": {},
   "outputs": [
    {
     "name": "stdout",
     "output_type": "stream",
     "text": [
      "mobile\n"
     ]
    },
    {
     "data": {
      "text/plain": [
       "{'TV': 302,\n",
       " 'mobile': 2354,\n",
       " 'laptop': 1469,\n",
       " 'pendrive': 257,\n",
       " 'hardDisk': 426,\n",
       " 'Tablet': 1056,\n",
       " 'ipod': 217,\n",
       " 'computer': 203,\n",
       " 'DVD': 2174,\n",
       " 'gyser': 1863}"
      ]
     },
     "execution_count": 105,
     "metadata": {},
     "output_type": "execute_result"
    }
   ],
   "source": [
    "new=dict()\n",
    "with open ('C:/Users/Aarohi Mangal/Desktop/Sem 5/Python/temp.txt', 'r') as f:\n",
    "    l=f.readlines()\n",
    "    for i in l:\n",
    "        products=i.rstrip(\"\\n\").split(\" \")\n",
    "        t_sale=int(products[1])+int(products[2])+int(products[3])+int(products[4])\n",
    "        new[products[0]]=t_sale\n",
    "    for i in new:\n",
    "        if(new[i]==max(new.values())):\n",
    "            print(i)\n",
    "new     "
   ]
  },
  {
   "cell_type": "code",
   "execution_count": 73,
   "metadata": {},
   "outputs": [],
   "source": [
    "with open ('C:/Users/Aarohi Mangal/Desktop/Sem 5/Python/movie.txt', 'a') as f:\n",
    "    f.write(\"\\nDilwale Amit 167 2017\")"
   ]
  },
  {
   "cell_type": "code",
   "execution_count": 75,
   "metadata": {},
   "outputs": [
    {
     "name": "stdout",
     "output_type": "stream",
     "text": [
      "7\n"
     ]
    }
   ],
   "source": [
    "with open ('C:/Users/Aarohi Mangal/Desktop/Sem 5/Python/movie.txt', 'r') as f:\n",
    "    print(len(f.readlines()))"
   ]
  },
  {
   "cell_type": "code",
   "execution_count": 76,
   "metadata": {},
   "outputs": [],
   "source": [
    "with open ('C:/Users/Aarohi Mangal/Desktop/Sem 5/Python/movie.txt', 'a') as f:\n",
    "    f.write(\"\\nWar Amit 180 2019\")"
   ]
  },
  {
   "cell_type": "code",
   "execution_count": 77,
   "metadata": {},
   "outputs": [
    {
     "name": "stdout",
     "output_type": "stream",
     "text": [
      "['Lagaan Ashutosh 98 2001\\n', 'Dangal Nitesh 110 2016\\n', 'Ran Akira 80 1985\\n', 'Killer Charles 160 1977\\n', 'Mad George 170 1979\\n', 'Last Hal 136 1973\\n', 'Dilwale Amit 167 2017\\n', 'War Amit 180 2019']\n"
     ]
    }
   ],
   "source": [
    "with open ('C:/Users/Aarohi Mangal/Desktop/Sem 5/Python/movie.txt', 'r') as f:\n",
    "    print(f.readlines())"
   ]
  },
  {
   "cell_type": "code",
   "execution_count": 78,
   "metadata": {},
   "outputs": [
    {
     "name": "stdout",
     "output_type": "stream",
     "text": [
      "['Lagaan', 'Ashutosh', '98', '2001']\n",
      "['Dangal', 'Nitesh', '110', '2016']\n",
      "['Killer', 'Charles', '160', '1977']\n",
      "['Mad', 'George', '170', '1979']\n",
      "['Last', 'Hal', '136', '1973']\n",
      "['Dilwale', 'Amit', '167', '2017']\n",
      "['War', 'Amit', '180', '2019']\n"
     ]
    }
   ],
   "source": [
    "with open ('C:/Users/Aarohi Mangal/Desktop/Sem 5/Python/movie.txt', 'r') as f:\n",
    "    l=f.readlines()\n",
    "    for i in l:\n",
    "        movie=i.rstrip('\\n').split(' ')\n",
    "        if (float(movie[2])>80):\n",
    "            print(movie)"
   ]
  },
  {
   "cell_type": "code",
   "execution_count": 97,
   "metadata": {},
   "outputs": [
    {
     "name": "stdout",
     "output_type": "stream",
     "text": [
      "Lagaan Ashutosh 98 2001\n",
      "\n",
      "Dangal Nitesh 110 2016\n",
      "\n",
      "Ran Akira 80 1985\n",
      "\n",
      "Killer Charles 160 1977\n",
      "\n",
      "Mad George 170 1979\n",
      "\n"
     ]
    }
   ],
   "source": [
    "with open ('C:/Users/Aarohi Mangal/Desktop/Sem 5/Python/movie.txt', 'r') as f:\n",
    "    for i in range(5):\n",
    "        print(f.readline())"
   ]
  },
  {
   "cell_type": "code",
   "execution_count": 1,
   "metadata": {},
   "outputs": [
    {
     "name": "stdout",
     "output_type": "stream",
     "text": [
      "['Ashutosh', 'Nitesh', 'Akira', 'Charles', 'George', 'Hal', 'Ashutosh', 'Amit']\n",
      "Counter({'Ashutosh': 2, 'Nitesh': 1, 'Akira': 1, 'Charles': 1, 'George': 1, 'Hal': 1, 'Amit': 1})\n",
      "Ashutosh\n"
     ]
    }
   ],
   "source": [
    "from collections import Counter\n",
    "new=list()\n",
    "with open ('C:/Users/Aarohi Mangal/Desktop/Sem 5/Python/movie.txt', 'r') as f:\n",
    "    l=f.readlines()\n",
    "    for i in l:\n",
    "        movie=i.rstrip('\\n').split(' ')\n",
    "        new.append(movie[1])\n",
    "    print(new)\n",
    "    director=Counter(new)\n",
    "    print(director)\n",
    "    for keys in director:\n",
    "        if (director[keys]>1):\n",
    "            print(keys)"
   ]
  },
  {
   "cell_type": "code",
   "execution_count": 5,
   "metadata": {},
   "outputs": [
    {
     "name": "stdout",
     "output_type": "stream",
     "text": [
      "Lagaan Ashutosh 98 2001\n",
      "\n"
     ]
    },
    {
     "ename": "IndexError",
     "evalue": "list index out of range",
     "output_type": "error",
     "traceback": [
      "\u001b[1;31m---------------------------------------------------------------------------\u001b[0m",
      "\u001b[1;31mIndexError\u001b[0m                                Traceback (most recent call last)",
      "\u001b[1;32m<ipython-input-5-7e2845fdc11c>\u001b[0m in \u001b[0;36m<module>\u001b[1;34m\u001b[0m\n\u001b[0;32m      1\u001b[0m \u001b[1;32mwith\u001b[0m \u001b[0mopen\u001b[0m \u001b[1;33m(\u001b[0m\u001b[1;34m'C:/Users/Aarohi Mangal/Desktop/Sem 5/Python/movie.txt'\u001b[0m\u001b[1;33m,\u001b[0m \u001b[1;34m'r'\u001b[0m\u001b[1;33m)\u001b[0m \u001b[1;32mas\u001b[0m \u001b[0mf\u001b[0m\u001b[1;33m:\u001b[0m\u001b[1;33m\u001b[0m\u001b[1;33m\u001b[0m\u001b[0m\n\u001b[0;32m      2\u001b[0m     \u001b[1;32mfor\u001b[0m \u001b[0mi\u001b[0m \u001b[1;32min\u001b[0m \u001b[0mrange\u001b[0m\u001b[1;33m(\u001b[0m\u001b[1;36m4\u001b[0m\u001b[1;33m)\u001b[0m\u001b[1;33m:\u001b[0m\u001b[1;33m\u001b[0m\u001b[1;33m\u001b[0m\u001b[0m\n\u001b[1;32m----> 3\u001b[1;33m         \u001b[0mprint\u001b[0m\u001b[1;33m(\u001b[0m\u001b[0mf\u001b[0m\u001b[1;33m.\u001b[0m\u001b[0mreadlines\u001b[0m\u001b[1;33m(\u001b[0m\u001b[1;33m)\u001b[0m\u001b[1;33m[\u001b[0m\u001b[0mi\u001b[0m\u001b[1;33m]\u001b[0m\u001b[1;33m)\u001b[0m\u001b[1;33m\u001b[0m\u001b[1;33m\u001b[0m\u001b[0m\n\u001b[0m",
      "\u001b[1;31mIndexError\u001b[0m: list index out of range"
     ]
    }
   ],
   "source": [
    "with open ('C:/Users/Aarohi Mangal/Desktop/Sem 5/Python/movie.txt', 'r') as f:\n",
    "    for i in range(4):\n",
    "        print(f.readlines()[i])"
   ]
  },
  {
   "cell_type": "code",
   "execution_count": null,
   "metadata": {},
   "outputs": [],
   "source": []
  }
 ],
 "metadata": {
  "kernelspec": {
   "display_name": "Python 3",
   "language": "python",
   "name": "python3"
  },
  "language_info": {
   "codemirror_mode": {
    "name": "ipython",
    "version": 3
   },
   "file_extension": ".py",
   "mimetype": "text/x-python",
   "name": "python",
   "nbconvert_exporter": "python",
   "pygments_lexer": "ipython3",
   "version": "3.8.2"
  }
 },
 "nbformat": 4,
 "nbformat_minor": 4
}
